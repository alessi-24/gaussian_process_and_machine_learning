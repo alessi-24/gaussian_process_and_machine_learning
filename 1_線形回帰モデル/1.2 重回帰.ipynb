{
 "cells": [
  {
   "cell_type": "code",
   "execution_count": 1,
   "id": "21c44c83",
   "metadata": {},
   "outputs": [
    {
     "data": {
      "text/plain": [
       "Plots.GRBackend()"
      ]
     },
     "execution_count": 1,
     "metadata": {},
     "output_type": "execute_result"
    }
   ],
   "source": [
    "using Distributions\n",
    "using Random\n",
    "using LinearAlgebra\n",
    "using Plots\n",
    "using StatsBase\n",
    "using LaTeXStrings\n",
    "gr()"
   ]
  },
  {
   "cell_type": "code",
   "execution_count": 2,
   "id": "2aa80720",
   "metadata": {},
   "outputs": [
    {
     "data": {
      "text/plain": [
       "make_data (generic function with 1 method)"
      ]
     },
     "execution_count": 2,
     "metadata": {},
     "output_type": "execute_result"
    }
   ],
   "source": [
    "function make_data()\n",
    "    \"\"\"\n",
    "    データの作成関数\n",
    "    z = 2x + 5y + 1 に N(0,1)のノイズを追加してデータ作成\n",
    "    \"\"\"\n",
    "\n",
    "    number_of_data = 50\n",
    "    x = collect(range(-5, 5, length=number_of_data))\n",
    "    y = collect(range(-3, 7, length=number_of_data))\n",
    "    z = 2 * x + 5 * y .+ 1 + rand(Normal(0,1),number_of_data)\n",
    "\n",
    "    return x, y, z\n",
    "end"
   ]
  },
  {
   "cell_type": "code",
   "execution_count": 3,
   "id": "7a8cc8c6",
   "metadata": {},
   "outputs": [
    {
     "data": {
      "text/plain": [
       "make_design_matrix (generic function with 1 method)"
      ]
     },
     "execution_count": 3,
     "metadata": {},
     "output_type": "execute_result"
    }
   ],
   "source": [
    "function make_design_matrix(x,y)\n",
    "    \"\"\"\n",
    "    計画行列作成関数\n",
    "\n",
    "    Parameters\n",
    "    ----------\n",
    "    x : list of float\n",
    "        1次元データ\n",
    "    y : list of float\n",
    "        1次元データ\n",
    "    \n",
    "    \n",
    "    Returns\n",
    "    -------\n",
    "    design_mat : matrix of float\n",
    "        計画行列\n",
    "    \"\"\"\n",
    "\n",
    "    design_mat = hcat(ones(length(x)), x, y)\n",
    "\n",
    "    return design_mat\n",
    "end"
   ]
  },
  {
   "cell_type": "code",
   "execution_count": 4,
   "id": "2b813595",
   "metadata": {},
   "outputs": [
    {
     "data": {
      "text/plain": [
       "multiple_regression (generic function with 1 method)"
      ]
     },
     "execution_count": 4,
     "metadata": {},
     "output_type": "execute_result"
    }
   ],
   "source": [
    "function multiple_regression(design_mat, z)\n",
    "    \"\"\"\n",
    "    パラメータ推定関数\n",
    "\n",
    "    Parameters\n",
    "    ----------\n",
    "    design_mat : matrix of float\n",
    "        計画行列\n",
    "    z : list of float\n",
    "        1次元データ\n",
    "    \n",
    "    Returns\n",
    "    -------\n",
    "    w : list of float\n",
    "        重回帰モデルの解\n",
    "    \"\"\"\n",
    "\n",
    "    w = (design_mat' * design_mat) \\ design_mat' * z\n",
    "\n",
    "    return w\n",
    "end"
   ]
  },
  {
   "cell_type": "code",
   "execution_count": 5,
   "id": "2ba437ee",
   "metadata": {},
   "outputs": [
    {
     "data": {
      "text/plain": [
       "estimate_func (generic function with 1 method)"
      ]
     },
     "execution_count": 5,
     "metadata": {},
     "output_type": "execute_result"
    }
   ],
   "source": [
    "function estimate_func(design_mat, w)\n",
    "    \"\"\"\n",
    "    推定値出力関数\n",
    "\n",
    "    Parameters\n",
    "    ----------\n",
    "    design_mat : matrix of float\n",
    "        計画行列\n",
    "    w : list of float\n",
    "        重回帰モデルの解\n",
    "\n",
    "    Returns\n",
    "    -------\n",
    "    z_hat : list of float\n",
    "        推定値\n",
    "    \"\"\"\n",
    "\n",
    "    z_hat = design_mat * w\n",
    "\n",
    "    return z_hat\n",
    "end"
   ]
  },
  {
   "cell_type": "code",
   "execution_count": 6,
   "id": "f17ab629",
   "metadata": {},
   "outputs": [
    {
     "data": {
      "text/plain": [
       "main (generic function with 1 method)"
      ]
     },
     "execution_count": 6,
     "metadata": {},
     "output_type": "execute_result"
    }
   ],
   "source": [
    "function main()\n",
    "\n",
    "    x, y, z = make_data()\n",
    "    design_mat = make_design_matrix(x,y)\n",
    "    w = multiple_regression(design_mat, z)\n",
    "    z_hat = estimate_func(design_mat, w)\n",
    "\n",
    "    #パラメータ推定値(1,2,5が正解)\n",
    "    print(\"パラメータ推定値((1,2,5)を元にデータ生成):\",w)\n",
    "    \n",
    "    #可視化\n",
    "    plot(x,y,z,label=\"data\")\n",
    "    plot!(x,y,z_hat,label=\"estimate\")\n",
    "    plot!(xlabel=L\"x\",ylabel=L\"y\",zlabel=L\"z\",legend=:topleft)\n",
    "end"
   ]
  },
  {
   "cell_type": "code",
   "execution_count": 7,
   "id": "45a3c8cd",
   "metadata": {},
   "outputs": [
    {
     "name": "stdout",
     "output_type": "stream",
     "text": [
      "パラメータ推定値((1,2,5)を元にデータ生成):[1.8989442968105288, 2.344557455750352, 4.642157304962534]"
     ]
    },
    {
     "data": {
      "image/svg+xml": [
       "<?xml version=\"1.0\" encoding=\"utf-8\"?>\n",
       "<svg xmlns=\"http://www.w3.org/2000/svg\" xmlns:xlink=\"http://www.w3.org/1999/xlink\" width=\"600\" height=\"400\" viewBox=\"0 0 2400 1600\">\n",
       "<defs>\n",
       "  <clipPath id=\"clip030\">\n",
       "    <rect x=\"0\" y=\"0\" width=\"2400\" height=\"1600\"/>\n",
       "  </clipPath>\n",
       "</defs>\n",
       "<path clip-path=\"url(#clip030)\" d=\"\n",
       "M0 1600 L2400 1600 L2400 0 L0 0  Z\n",
       "  \" fill=\"#ffffff\" fill-rule=\"evenodd\" fill-opacity=\"1\"/>\n",
       "<defs>\n",
       "  <clipPath id=\"clip031\">\n",
       "    <rect x=\"480\" y=\"0\" width=\"1681\" height=\"1600\"/>\n",
       "  </clipPath>\n",
       "</defs>\n",
       "<defs>\n",
       "  <clipPath id=\"clip032\">\n",
       "    <rect x=\"214\" y=\"47\" width=\"2139\" height=\"1396\"/>\n",
       "  </clipPath>\n",
       "</defs>\n",
       "<path clip-path=\"url(#clip032)\" d=\"\n",
       "M214.354 1360.1 L214.354 294.514 L997.064 47.2441 L2352.76 129.667 L2352.76 1195.25 L1570.05 1442.52 L214.354 1360.1  Z\n",
       "  \" fill=\"#ffffff\" fill-rule=\"evenodd\" fill-opacity=\"1\"/>\n",
       "<polyline clip-path=\"url(#clip032)\" style=\"stroke:#000000; stroke-linecap:butt; stroke-linejoin:round; stroke-width:2; stroke-opacity:0.1; fill:none\" points=\"\n",
       "  380.618,1370.21 1163.33,1122.94 \n",
       "  \"/>\n",
       "<polyline clip-path=\"url(#clip032)\" style=\"stroke:#000000; stroke-linecap:butt; stroke-linejoin:round; stroke-width:2; stroke-opacity:0.1; fill:none\" points=\"\n",
       "  1163.33,1122.94 1163.33,57.3526 \n",
       "  \"/>\n",
       "<polyline clip-path=\"url(#clip032)\" style=\"stroke:#000000; stroke-linecap:butt; stroke-linejoin:round; stroke-width:2; stroke-opacity:0.1; fill:none\" points=\"\n",
       "  636.409,1385.76 1419.12,1138.49 \n",
       "  \"/>\n",
       "<polyline clip-path=\"url(#clip032)\" style=\"stroke:#000000; stroke-linecap:butt; stroke-linejoin:round; stroke-width:2; stroke-opacity:0.1; fill:none\" points=\"\n",
       "  1419.12,1138.49 1419.12,72.9042 \n",
       "  \"/>\n",
       "<polyline clip-path=\"url(#clip032)\" style=\"stroke:#000000; stroke-linecap:butt; stroke-linejoin:round; stroke-width:2; stroke-opacity:0.1; fill:none\" points=\"\n",
       "  892.2,1401.31 1674.91,1154.04 \n",
       "  \"/>\n",
       "<polyline clip-path=\"url(#clip032)\" style=\"stroke:#000000; stroke-linecap:butt; stroke-linejoin:round; stroke-width:2; stroke-opacity:0.1; fill:none\" points=\"\n",
       "  1674.91,1154.04 1674.91,88.4558 \n",
       "  \"/>\n",
       "<polyline clip-path=\"url(#clip032)\" style=\"stroke:#000000; stroke-linecap:butt; stroke-linejoin:round; stroke-width:2; stroke-opacity:0.1; fill:none\" points=\"\n",
       "  1147.99,1416.86 1930.7,1169.59 \n",
       "  \"/>\n",
       "<polyline clip-path=\"url(#clip032)\" style=\"stroke:#000000; stroke-linecap:butt; stroke-linejoin:round; stroke-width:2; stroke-opacity:0.1; fill:none\" points=\"\n",
       "  1930.7,1169.59 1930.7,104.007 \n",
       "  \"/>\n",
       "<polyline clip-path=\"url(#clip032)\" style=\"stroke:#000000; stroke-linecap:butt; stroke-linejoin:round; stroke-width:2; stroke-opacity:0.1; fill:none\" points=\"\n",
       "  1403.78,1432.41 2186.49,1185.14 \n",
       "  \"/>\n",
       "<polyline clip-path=\"url(#clip032)\" style=\"stroke:#000000; stroke-linecap:butt; stroke-linejoin:round; stroke-width:2; stroke-opacity:0.1; fill:none\" points=\"\n",
       "  2186.49,1185.14 2186.49,119.559 \n",
       "  \"/>\n",
       "<polyline clip-path=\"url(#clip030)\" style=\"stroke:#000000; stroke-linecap:butt; stroke-linejoin:round; stroke-width:4; stroke-opacity:1; fill:none\" points=\"\n",
       "  214.354,1360.1 1570.05,1442.52 \n",
       "  \"/>\n",
       "<polyline clip-path=\"url(#clip030)\" style=\"stroke:#000000; stroke-linecap:butt; stroke-linejoin:round; stroke-width:4; stroke-opacity:1; fill:none\" points=\"\n",
       "  380.618,1370.21 390.011,1367.24 \n",
       "  \"/>\n",
       "<polyline clip-path=\"url(#clip030)\" style=\"stroke:#000000; stroke-linecap:butt; stroke-linejoin:round; stroke-width:4; stroke-opacity:1; fill:none\" points=\"\n",
       "  636.409,1385.76 645.802,1382.79 \n",
       "  \"/>\n",
       "<polyline clip-path=\"url(#clip030)\" style=\"stroke:#000000; stroke-linecap:butt; stroke-linejoin:round; stroke-width:4; stroke-opacity:1; fill:none\" points=\"\n",
       "  892.2,1401.31 901.593,1398.34 \n",
       "  \"/>\n",
       "<polyline clip-path=\"url(#clip030)\" style=\"stroke:#000000; stroke-linecap:butt; stroke-linejoin:round; stroke-width:4; stroke-opacity:1; fill:none\" points=\"\n",
       "  1147.99,1416.86 1157.38,1413.9 \n",
       "  \"/>\n",
       "<polyline clip-path=\"url(#clip030)\" style=\"stroke:#000000; stroke-linecap:butt; stroke-linejoin:round; stroke-width:4; stroke-opacity:1; fill:none\" points=\"\n",
       "  1403.78,1432.41 1413.17,1429.45 \n",
       "  \"/>\n",
       "<path clip-path=\"url(#clip030)\" d=\"M325.519 1418.85 L355.195 1418.85 L355.195 1422.79 L325.519 1422.79 L325.519 1418.85 Z\" fill=\"#000000\" fill-rule=\"evenodd\" fill-opacity=\"1\" /><path clip-path=\"url(#clip030)\" d=\"M378.134 1405.19 L366.329 1423.64 L378.134 1423.64 L378.134 1405.19 M376.908 1401.12 L382.787 1401.12 L382.787 1423.64 L387.718 1423.64 L387.718 1427.53 L382.787 1427.53 L382.787 1435.68 L378.134 1435.68 L378.134 1427.53 L362.533 1427.53 L362.533 1423.02 L376.908 1401.12 Z\" fill=\"#000000\" fill-rule=\"evenodd\" fill-opacity=\"1\" /><path clip-path=\"url(#clip030)\" d=\"M582.352 1434.4 L612.027 1434.4 L612.027 1438.34 L582.352 1438.34 L582.352 1434.4 Z\" fill=\"#000000\" fill-rule=\"evenodd\" fill-opacity=\"1\" /><path clip-path=\"url(#clip030)\" d=\"M626.148 1447.3 L642.467 1447.3 L642.467 1451.23 L620.523 1451.23 L620.523 1447.3 Q623.185 1444.54 627.768 1439.91 Q632.375 1435.26 633.555 1433.92 Q635.8 1431.39 636.68 1429.66 Q637.583 1427.9 637.583 1426.21 Q637.583 1423.45 635.638 1421.72 Q633.717 1419.98 630.615 1419.98 Q628.416 1419.98 625.963 1420.75 Q623.532 1421.51 620.754 1423.06 L620.754 1418.34 Q623.578 1417.2 626.032 1416.63 Q628.486 1416.05 630.523 1416.05 Q635.893 1416.05 639.088 1418.73 Q642.282 1421.42 642.282 1425.91 Q642.282 1428.04 641.472 1429.96 Q640.685 1431.86 638.578 1434.45 Q638 1435.12 634.898 1438.34 Q631.796 1441.53 626.148 1447.3 Z\" fill=\"#000000\" fill-rule=\"evenodd\" fill-opacity=\"1\" /><path clip-path=\"url(#clip030)\" d=\"M868.2 1435.3 Q864.589 1435.3 862.761 1438.87 Q860.955 1442.41 860.955 1449.54 Q860.955 1456.64 862.761 1460.21 Q864.589 1463.75 868.2 1463.75 Q871.835 1463.75 873.64 1460.21 Q875.469 1456.64 875.469 1449.54 Q875.469 1442.41 873.64 1438.87 Q871.835 1435.3 868.2 1435.3 M868.2 1431.6 Q874.011 1431.6 877.066 1436.2 Q880.145 1440.79 880.145 1449.54 Q880.145 1458.26 877.066 1462.87 Q874.011 1467.45 868.2 1467.45 Q862.39 1467.45 859.312 1462.87 Q856.256 1458.26 856.256 1449.54 Q856.256 1440.79 859.312 1436.2 Q862.39 1431.6 868.2 1431.6 Z\" fill=\"#000000\" fill-rule=\"evenodd\" fill-opacity=\"1\" /><path clip-path=\"url(#clip030)\" d=\"M1118.64 1478.4 L1134.96 1478.4 L1134.96 1482.33 L1113.02 1482.33 L1113.02 1478.4 Q1115.68 1475.64 1120.26 1471.02 Q1124.87 1466.36 1126.05 1465.02 Q1128.3 1462.5 1129.18 1460.76 Q1130.08 1459 1130.08 1457.31 Q1130.08 1454.56 1128.13 1452.82 Q1126.21 1451.08 1123.11 1451.08 Q1120.91 1451.08 1118.46 1451.85 Q1116.03 1452.61 1113.25 1454.16 L1113.25 1449.44 Q1116.07 1448.31 1118.53 1447.73 Q1120.98 1447.15 1123.02 1447.15 Q1128.39 1447.15 1131.58 1449.83 Q1134.78 1452.52 1134.78 1457.01 Q1134.78 1459.14 1133.97 1461.06 Q1133.18 1462.96 1131.07 1465.55 Q1130.5 1466.22 1127.39 1469.44 Q1124.29 1472.64 1118.64 1478.4 Z\" fill=\"#000000\" fill-rule=\"evenodd\" fill-opacity=\"1\" /><path clip-path=\"url(#clip030)\" d=\"M1382.79 1467.4 L1370.99 1485.85 L1382.79 1485.85 L1382.79 1467.4 M1381.56 1463.33 L1387.44 1463.33 L1387.44 1485.85 L1392.37 1485.85 L1392.37 1489.74 L1387.44 1489.74 L1387.44 1497.89 L1382.79 1497.89 L1382.79 1489.74 L1367.19 1489.74 L1367.19 1485.22 L1381.56 1463.33 Z\" fill=\"#000000\" fill-rule=\"evenodd\" fill-opacity=\"1\" /><path clip-path=\"url(#clip030)\" d=\"M824.924 1489.8 Q824.924 1491.6 823.797 1492.63 Q822.67 1493.63 821.382 1493.63 Q820.158 1493.63 819.514 1492.92 Q818.87 1492.21 818.87 1491.31 Q818.87 1490.09 819.772 1489.02 Q820.673 1487.96 822.026 1487.74 Q820.705 1486.9 818.741 1486.9 Q817.453 1486.9 816.325 1487.58 Q815.23 1488.25 814.554 1489.12 Q813.91 1489.99 813.33 1491.25 Q812.783 1492.47 812.557 1493.21 Q812.364 1493.92 812.203 1494.69 L809.949 1503.71 Q808.854 1507.99 808.854 1509.51 Q808.854 1511.38 809.755 1512.63 Q810.657 1513.86 812.461 1513.86 Q813.169 1513.86 813.974 1513.66 Q814.78 1513.44 815.81 1512.86 Q816.873 1512.25 817.807 1511.34 Q818.773 1510.41 819.707 1508.83 Q820.641 1507.25 821.253 1505.22 Q821.446 1504.52 822.09 1504.52 Q822.895 1504.52 822.895 1505.16 Q822.895 1505.71 822.445 1506.87 Q822.026 1507.99 821.092 1509.48 Q820.19 1510.92 818.999 1512.25 Q817.807 1513.53 816.036 1514.44 Q814.264 1515.34 812.332 1515.34 Q809.562 1515.34 807.727 1513.86 Q805.891 1512.37 805.214 1510.31 Q805.053 1510.6 804.828 1510.99 Q804.603 1511.38 803.926 1512.25 Q803.282 1513.08 802.541 1513.73 Q801.801 1514.34 800.641 1514.82 Q799.514 1515.34 798.29 1515.34 Q796.744 1515.34 795.359 1514.89 Q794.007 1514.44 793.041 1513.4 Q792.074 1512.37 792.074 1510.96 Q792.074 1509.38 793.137 1508.28 Q794.232 1507.16 795.714 1507.16 Q796.648 1507.16 797.388 1507.7 Q798.161 1508.25 798.161 1509.44 Q798.161 1510.76 797.26 1511.76 Q796.358 1512.76 795.07 1513.02 Q796.39 1513.86 798.355 1513.86 Q800.48 1513.86 802.155 1511.99 Q803.83 1510.12 804.635 1507 Q806.632 1499.49 807.404 1496.14 Q808.177 1492.76 808.177 1491.31 Q808.177 1489.96 807.823 1489.02 Q807.469 1488.09 806.857 1487.67 Q806.277 1487.22 805.73 1487.06 Q805.214 1486.9 804.635 1486.9 Q803.669 1486.9 802.574 1487.29 Q801.511 1487.67 800.223 1488.57 Q798.967 1489.44 797.775 1491.25 Q796.583 1493.05 795.778 1495.53 Q795.617 1496.27 794.909 1496.27 Q794.136 1496.24 794.136 1495.59 Q794.136 1495.05 794.554 1493.92 Q795.005 1492.76 795.907 1491.31 Q796.841 1489.86 798.033 1488.57 Q799.256 1487.25 801.028 1486.35 Q802.831 1485.45 804.764 1485.45 Q805.633 1485.45 806.47 1485.64 Q807.34 1485.8 808.371 1486.29 Q809.433 1486.77 810.367 1487.83 Q811.301 1488.9 811.881 1490.44 Q812.268 1489.7 812.783 1488.99 Q813.33 1488.28 814.168 1487.41 Q815.037 1486.51 816.229 1486 Q817.453 1485.45 818.805 1485.45 Q820.126 1485.45 821.414 1485.8 Q822.702 1486.13 823.797 1487.19 Q824.924 1488.22 824.924 1489.8 Z\" fill=\"#000000\" fill-rule=\"evenodd\" fill-opacity=\"1\" /><polyline clip-path=\"url(#clip032)\" style=\"stroke:#000000; stroke-linecap:butt; stroke-linejoin:round; stroke-width:2; stroke-opacity:0.1; fill:none\" points=\"\n",
       "  1666.04,1412.2 310.347,1329.77 \n",
       "  \"/>\n",
       "<polyline clip-path=\"url(#clip032)\" style=\"stroke:#000000; stroke-linecap:butt; stroke-linejoin:round; stroke-width:2; stroke-opacity:0.1; fill:none\" points=\"\n",
       "  310.347,1329.77 310.347,264.188 \n",
       "  \"/>\n",
       "<polyline clip-path=\"url(#clip032)\" style=\"stroke:#000000; stroke-linecap:butt; stroke-linejoin:round; stroke-width:2; stroke-opacity:0.1; fill:none\" points=\"\n",
       "  1813.72,1365.54 458.028,1283.12 \n",
       "  \"/>\n",
       "<polyline clip-path=\"url(#clip032)\" style=\"stroke:#000000; stroke-linecap:butt; stroke-linejoin:round; stroke-width:2; stroke-opacity:0.1; fill:none\" points=\"\n",
       "  458.028,1283.12 458.028,217.534 \n",
       "  \"/>\n",
       "<polyline clip-path=\"url(#clip032)\" style=\"stroke:#000000; stroke-linecap:butt; stroke-linejoin:round; stroke-width:2; stroke-opacity:0.1; fill:none\" points=\"\n",
       "  1961.4,1318.89 605.709,1236.46 \n",
       "  \"/>\n",
       "<polyline clip-path=\"url(#clip032)\" style=\"stroke:#000000; stroke-linecap:butt; stroke-linejoin:round; stroke-width:2; stroke-opacity:0.1; fill:none\" points=\"\n",
       "  605.709,1236.46 605.709,170.879 \n",
       "  \"/>\n",
       "<polyline clip-path=\"url(#clip032)\" style=\"stroke:#000000; stroke-linecap:butt; stroke-linejoin:round; stroke-width:2; stroke-opacity:0.1; fill:none\" points=\"\n",
       "  2109.08,1272.23 753.39,1189.81 \n",
       "  \"/>\n",
       "<polyline clip-path=\"url(#clip032)\" style=\"stroke:#000000; stroke-linecap:butt; stroke-linejoin:round; stroke-width:2; stroke-opacity:0.1; fill:none\" points=\"\n",
       "  753.39,1189.81 753.39,124.224 \n",
       "  \"/>\n",
       "<polyline clip-path=\"url(#clip032)\" style=\"stroke:#000000; stroke-linecap:butt; stroke-linejoin:round; stroke-width:2; stroke-opacity:0.1; fill:none\" points=\"\n",
       "  2256.76,1225.58 901.071,1143.16 \n",
       "  \"/>\n",
       "<polyline clip-path=\"url(#clip032)\" style=\"stroke:#000000; stroke-linecap:butt; stroke-linejoin:round; stroke-width:2; stroke-opacity:0.1; fill:none\" points=\"\n",
       "  901.071,1143.16 901.071,77.5697 \n",
       "  \"/>\n",
       "<polyline clip-path=\"url(#clip030)\" style=\"stroke:#000000; stroke-linecap:butt; stroke-linejoin:round; stroke-width:4; stroke-opacity:1; fill:none\" points=\"\n",
       "  1570.05,1442.52 2352.76,1195.25 \n",
       "  \"/>\n",
       "<polyline clip-path=\"url(#clip030)\" style=\"stroke:#000000; stroke-linecap:butt; stroke-linejoin:round; stroke-width:4; stroke-opacity:1; fill:none\" points=\"\n",
       "  1666.04,1412.2 1649.77,1411.21 \n",
       "  \"/>\n",
       "<polyline clip-path=\"url(#clip030)\" style=\"stroke:#000000; stroke-linecap:butt; stroke-linejoin:round; stroke-width:4; stroke-opacity:1; fill:none\" points=\"\n",
       "  1813.72,1365.54 1797.45,1364.55 \n",
       "  \"/>\n",
       "<polyline clip-path=\"url(#clip030)\" style=\"stroke:#000000; stroke-linecap:butt; stroke-linejoin:round; stroke-width:4; stroke-opacity:1; fill:none\" points=\"\n",
       "  1961.4,1318.89 1945.13,1317.9 \n",
       "  \"/>\n",
       "<polyline clip-path=\"url(#clip030)\" style=\"stroke:#000000; stroke-linecap:butt; stroke-linejoin:round; stroke-width:4; stroke-opacity:1; fill:none\" points=\"\n",
       "  2109.08,1272.23 2092.81,1271.24 \n",
       "  \"/>\n",
       "<polyline clip-path=\"url(#clip030)\" style=\"stroke:#000000; stroke-linecap:butt; stroke-linejoin:round; stroke-width:4; stroke-opacity:1; fill:none\" points=\"\n",
       "  2256.76,1225.58 2240.49,1224.59 \n",
       "  \"/>\n",
       "<path clip-path=\"url(#clip030)\" d=\"M1659.98 1460.84 L1689.66 1460.84 L1689.66 1464.78 L1659.98 1464.78 L1659.98 1460.84 Z\" fill=\"#000000\" fill-rule=\"evenodd\" fill-opacity=\"1\" /><path clip-path=\"url(#clip030)\" d=\"M1703.78 1473.73 L1720.1 1473.73 L1720.1 1477.67 L1698.15 1477.67 L1698.15 1473.73 Q1700.81 1470.98 1705.4 1466.35 Q1710 1461.7 1711.18 1460.35 Q1713.43 1457.83 1714.31 1456.1 Q1715.21 1454.34 1715.21 1452.65 Q1715.21 1449.89 1713.27 1448.16 Q1711.35 1446.42 1708.25 1446.42 Q1706.05 1446.42 1703.59 1447.18 Q1701.16 1447.95 1698.38 1449.5 L1698.38 1444.78 Q1701.21 1443.64 1703.66 1443.06 Q1706.12 1442.48 1708.15 1442.48 Q1713.52 1442.48 1716.72 1445.17 Q1719.91 1447.85 1719.91 1452.35 Q1719.91 1454.47 1719.1 1456.4 Q1718.31 1458.29 1716.21 1460.89 Q1715.63 1461.56 1712.53 1464.78 Q1709.43 1467.97 1703.78 1473.73 Z\" fill=\"#000000\" fill-rule=\"evenodd\" fill-opacity=\"1\" /><path clip-path=\"url(#clip030)\" d=\"M1837.72 1399.53 Q1834.11 1399.53 1832.28 1403.1 Q1830.47 1406.64 1830.47 1413.77 Q1830.47 1420.88 1832.28 1424.44 Q1834.11 1427.98 1837.72 1427.98 Q1841.35 1427.98 1843.16 1424.44 Q1844.99 1420.88 1844.99 1413.77 Q1844.99 1406.64 1843.16 1403.1 Q1841.35 1399.53 1837.72 1399.53 M1837.72 1395.83 Q1843.53 1395.83 1846.59 1400.44 Q1849.66 1405.02 1849.66 1413.77 Q1849.66 1422.5 1846.59 1427.1 Q1843.53 1431.69 1837.72 1431.69 Q1831.91 1431.69 1828.83 1427.1 Q1825.78 1422.5 1825.78 1413.77 Q1825.78 1405.02 1828.83 1400.44 Q1831.91 1395.83 1837.72 1395.83 Z\" fill=\"#000000\" fill-rule=\"evenodd\" fill-opacity=\"1\" /><path clip-path=\"url(#clip030)\" d=\"M1980.05 1380.42 L1996.37 1380.42 L1996.37 1384.36 L1974.43 1384.36 L1974.43 1380.42 Q1977.09 1377.67 1981.67 1373.04 Q1986.28 1368.39 1987.46 1367.05 Q1989.71 1364.52 1990.59 1362.79 Q1991.49 1361.03 1991.49 1359.34 Q1991.49 1356.58 1989.54 1354.85 Q1987.62 1353.11 1984.52 1353.11 Q1982.32 1353.11 1979.87 1353.87 Q1977.44 1354.64 1974.66 1356.19 L1974.66 1351.47 Q1977.48 1350.33 1979.94 1349.75 Q1982.39 1349.17 1984.43 1349.17 Q1989.8 1349.17 1992.99 1351.86 Q1996.19 1354.55 1996.19 1359.04 Q1996.19 1361.17 1995.38 1363.09 Q1994.59 1364.98 1992.48 1367.58 Q1991.91 1368.25 1988.8 1371.47 Q1985.7 1374.66 1980.05 1380.42 Z\" fill=\"#000000\" fill-rule=\"evenodd\" fill-opacity=\"1\" /><path clip-path=\"url(#clip030)\" d=\"M2136.09 1307.22 L2124.29 1325.67 L2136.09 1325.67 L2136.09 1307.22 M2134.86 1303.15 L2140.74 1303.15 L2140.74 1325.67 L2145.67 1325.67 L2145.67 1329.56 L2140.74 1329.56 L2140.74 1337.71 L2136.09 1337.71 L2136.09 1329.56 L2120.49 1329.56 L2120.49 1325.04 L2134.86 1303.15 Z\" fill=\"#000000\" fill-rule=\"evenodd\" fill-opacity=\"1\" /><path clip-path=\"url(#clip030)\" d=\"M2281.17 1271.91 Q2278.02 1271.91 2276.17 1274.06 Q2274.34 1276.21 2274.34 1279.96 Q2274.34 1283.69 2276.17 1285.87 Q2278.02 1288.02 2281.17 1288.02 Q2284.32 1288.02 2286.15 1285.87 Q2288 1283.69 2288 1279.96 Q2288 1276.21 2286.15 1274.06 Q2284.32 1271.91 2281.17 1271.91 M2290.45 1257.25 L2290.45 1261.51 Q2288.69 1260.68 2286.89 1260.24 Q2285.1 1259.8 2283.34 1259.8 Q2278.71 1259.8 2276.26 1262.93 Q2273.83 1266.05 2273.48 1272.37 Q2274.85 1270.36 2276.91 1269.29 Q2278.97 1268.2 2281.45 1268.2 Q2286.65 1268.2 2289.66 1271.37 Q2292.7 1274.52 2292.7 1279.96 Q2292.7 1285.29 2289.55 1288.5 Q2286.4 1291.72 2281.17 1291.72 Q2275.17 1291.72 2272 1287.14 Q2268.83 1282.53 2268.83 1273.81 Q2268.83 1265.61 2272.72 1260.75 Q2276.61 1255.87 2283.16 1255.87 Q2284.92 1255.87 2286.7 1256.21 Q2288.51 1256.56 2290.45 1257.25 Z\" fill=\"#000000\" fill-rule=\"evenodd\" fill-opacity=\"1\" /><path clip-path=\"url(#clip030)\" d=\"M2069.94 1419.46 Q2069.94 1419.91 2069.65 1420.97 L2063.34 1446.16 Q2061.96 1451.76 2057.45 1455.69 Q2052.97 1459.62 2047.88 1459.62 Q2044.82 1459.62 2042.86 1457.98 Q2040.89 1456.37 2040.89 1453.89 Q2040.89 1451.7 2042.05 1450.64 Q2043.21 1449.61 2044.6 1449.61 Q2045.05 1449.61 2045.53 1449.73 Q2046.02 1449.86 2046.53 1450.41 Q2047.05 1450.96 2047.05 1451.89 Q2047.05 1453.41 2045.73 1454.6 Q2045.08 1455.14 2044.47 1455.27 Q2043.89 1455.4 2042.89 1455.4 Q2043.28 1456.3 2043.99 1456.92 Q2044.69 1457.53 2045.5 1457.75 Q2046.31 1458.01 2046.82 1458.08 Q2047.37 1458.17 2047.88 1458.17 Q2052.01 1458.17 2055.16 1454.02 Q2056.1 1452.76 2056.77 1451.51 Q2057.48 1450.28 2058 1448.77 Q2058.51 1447.29 2058.74 1446.48 Q2058.99 1445.68 2059.45 1443.84 Q2056.45 1446.84 2052.78 1446.84 Q2051.23 1446.84 2049.85 1446.42 Q2048.5 1446 2047.3 1445.13 Q2046.11 1444.23 2045.4 1442.65 Q2044.73 1441.07 2044.73 1438.98 Q2044.73 1436.76 2045.6 1433.73 Q2046.47 1430.7 2048.56 1425.13 Q2049.69 1422 2049.69 1420.49 Q2049.69 1419.75 2049.53 1419.3 Q2049.36 1418.82 2049.04 1418.66 Q2048.72 1418.46 2048.53 1418.43 Q2048.37 1418.4 2048.04 1418.4 Q2046.14 1418.4 2044.37 1420.33 Q2042.6 1422.26 2041.38 1426.58 Q2041.12 1427.38 2040.96 1427.58 Q2040.8 1427.77 2040.31 1427.77 Q2039.51 1427.74 2039.51 1427.09 Q2039.51 1426.84 2039.8 1425.84 Q2040.09 1424.81 2040.77 1423.29 Q2041.47 1421.75 2042.44 1420.36 Q2043.41 1418.95 2044.92 1417.95 Q2046.47 1416.95 2048.24 1416.95 Q2050.65 1416.95 2052.13 1418.53 Q2053.65 1420.07 2053.65 1422.36 Q2053.65 1423.29 2053.39 1424.13 Q2053.17 1424.94 2052.33 1427.09 Q2048.95 1435.79 2048.95 1440.04 Q2048.95 1441.07 2049.11 1441.94 Q2049.3 1442.78 2049.72 1443.62 Q2050.14 1444.42 2050.98 1444.9 Q2051.84 1445.35 2053.04 1445.35 Q2054.55 1445.35 2055.97 1444.65 Q2057.42 1443.9 2058.32 1442.91 Q2059.25 1441.91 2059.8 1441.07 Q2060.38 1440.2 2060.51 1439.75 L2063.47 1427.9 L2064.79 1422.62 Q2065.4 1419.75 2065.69 1419.04 Q2066.08 1418.37 2066.76 1418.01 Q2067.43 1417.66 2068.01 1417.66 Q2068.82 1417.66 2069.36 1418.14 Q2069.94 1418.62 2069.94 1419.46 Z\" fill=\"#000000\" fill-rule=\"evenodd\" fill-opacity=\"1\" /><polyline clip-path=\"url(#clip032)\" style=\"stroke:#000000; stroke-linecap:butt; stroke-linejoin:round; stroke-width:2; stroke-opacity:0.1; fill:none\" points=\"\n",
       "  214.354,1276.08 997.064,1028.81 \n",
       "  \"/>\n",
       "<polyline clip-path=\"url(#clip032)\" style=\"stroke:#000000; stroke-linecap:butt; stroke-linejoin:round; stroke-width:2; stroke-opacity:0.1; fill:none\" points=\"\n",
       "  997.064,1028.81 2352.76,1111.23 \n",
       "  \"/>\n",
       "<polyline clip-path=\"url(#clip032)\" style=\"stroke:#000000; stroke-linecap:butt; stroke-linejoin:round; stroke-width:2; stroke-opacity:0.1; fill:none\" points=\"\n",
       "  214.354,1132.46 997.064,885.187 \n",
       "  \"/>\n",
       "<polyline clip-path=\"url(#clip032)\" style=\"stroke:#000000; stroke-linecap:butt; stroke-linejoin:round; stroke-width:2; stroke-opacity:0.1; fill:none\" points=\"\n",
       "  997.064,885.187 2352.76,967.61 \n",
       "  \"/>\n",
       "<polyline clip-path=\"url(#clip032)\" style=\"stroke:#000000; stroke-linecap:butt; stroke-linejoin:round; stroke-width:2; stroke-opacity:0.1; fill:none\" points=\"\n",
       "  214.354,988.834 997.064,741.564 \n",
       "  \"/>\n",
       "<polyline clip-path=\"url(#clip032)\" style=\"stroke:#000000; stroke-linecap:butt; stroke-linejoin:round; stroke-width:2; stroke-opacity:0.1; fill:none\" points=\"\n",
       "  997.064,741.564 2352.76,823.988 \n",
       "  \"/>\n",
       "<polyline clip-path=\"url(#clip032)\" style=\"stroke:#000000; stroke-linecap:butt; stroke-linejoin:round; stroke-width:2; stroke-opacity:0.1; fill:none\" points=\"\n",
       "  214.354,845.212 997.064,597.942 \n",
       "  \"/>\n",
       "<polyline clip-path=\"url(#clip032)\" style=\"stroke:#000000; stroke-linecap:butt; stroke-linejoin:round; stroke-width:2; stroke-opacity:0.1; fill:none\" points=\"\n",
       "  997.064,597.942 2352.76,680.366 \n",
       "  \"/>\n",
       "<polyline clip-path=\"url(#clip032)\" style=\"stroke:#000000; stroke-linecap:butt; stroke-linejoin:round; stroke-width:2; stroke-opacity:0.1; fill:none\" points=\"\n",
       "  214.354,701.59 997.064,454.32 \n",
       "  \"/>\n",
       "<polyline clip-path=\"url(#clip032)\" style=\"stroke:#000000; stroke-linecap:butt; stroke-linejoin:round; stroke-width:2; stroke-opacity:0.1; fill:none\" points=\"\n",
       "  997.064,454.32 2352.76,536.744 \n",
       "  \"/>\n",
       "<polyline clip-path=\"url(#clip032)\" style=\"stroke:#000000; stroke-linecap:butt; stroke-linejoin:round; stroke-width:2; stroke-opacity:0.1; fill:none\" points=\"\n",
       "  214.354,557.968 997.064,310.698 \n",
       "  \"/>\n",
       "<polyline clip-path=\"url(#clip032)\" style=\"stroke:#000000; stroke-linecap:butt; stroke-linejoin:round; stroke-width:2; stroke-opacity:0.1; fill:none\" points=\"\n",
       "  997.064,310.698 2352.76,393.122 \n",
       "  \"/>\n",
       "<polyline clip-path=\"url(#clip032)\" style=\"stroke:#000000; stroke-linecap:butt; stroke-linejoin:round; stroke-width:2; stroke-opacity:0.1; fill:none\" points=\"\n",
       "  214.354,414.346 997.064,167.076 \n",
       "  \"/>\n",
       "<polyline clip-path=\"url(#clip032)\" style=\"stroke:#000000; stroke-linecap:butt; stroke-linejoin:round; stroke-width:2; stroke-opacity:0.1; fill:none\" points=\"\n",
       "  997.064,167.076 2352.76,249.499 \n",
       "  \"/>\n",
       "<polyline clip-path=\"url(#clip030)\" style=\"stroke:#000000; stroke-linecap:butt; stroke-linejoin:round; stroke-width:4; stroke-opacity:1; fill:none\" points=\"\n",
       "  214.354,1360.1 214.354,294.514 \n",
       "  \"/>\n",
       "<polyline clip-path=\"url(#clip030)\" style=\"stroke:#000000; stroke-linecap:butt; stroke-linejoin:round; stroke-width:4; stroke-opacity:1; fill:none\" points=\"\n",
       "  214.354,1276.08 223.747,1273.11 \n",
       "  \"/>\n",
       "<polyline clip-path=\"url(#clip030)\" style=\"stroke:#000000; stroke-linecap:butt; stroke-linejoin:round; stroke-width:4; stroke-opacity:1; fill:none\" points=\"\n",
       "  214.354,1132.46 223.747,1129.49 \n",
       "  \"/>\n",
       "<polyline clip-path=\"url(#clip030)\" style=\"stroke:#000000; stroke-linecap:butt; stroke-linejoin:round; stroke-width:4; stroke-opacity:1; fill:none\" points=\"\n",
       "  214.354,988.834 223.747,985.867 \n",
       "  \"/>\n",
       "<polyline clip-path=\"url(#clip030)\" style=\"stroke:#000000; stroke-linecap:butt; stroke-linejoin:round; stroke-width:4; stroke-opacity:1; fill:none\" points=\"\n",
       "  214.354,845.212 223.747,842.245 \n",
       "  \"/>\n",
       "<polyline clip-path=\"url(#clip030)\" style=\"stroke:#000000; stroke-linecap:butt; stroke-linejoin:round; stroke-width:4; stroke-opacity:1; fill:none\" points=\"\n",
       "  214.354,701.59 223.747,698.623 \n",
       "  \"/>\n",
       "<polyline clip-path=\"url(#clip030)\" style=\"stroke:#000000; stroke-linecap:butt; stroke-linejoin:round; stroke-width:4; stroke-opacity:1; fill:none\" points=\"\n",
       "  214.354,557.968 223.747,555.001 \n",
       "  \"/>\n",
       "<polyline clip-path=\"url(#clip030)\" style=\"stroke:#000000; stroke-linecap:butt; stroke-linejoin:round; stroke-width:4; stroke-opacity:1; fill:none\" points=\"\n",
       "  214.354,414.346 223.747,411.379 \n",
       "  \"/>\n",
       "<path clip-path=\"url(#clip030)\" d=\"M98.4797 1276.53 L128.156 1276.53 L128.156 1280.47 L98.4797 1280.47 L98.4797 1276.53 Z\" fill=\"#000000\" fill-rule=\"evenodd\" fill-opacity=\"1\" /><path clip-path=\"url(#clip030)\" d=\"M142.276 1289.42 L158.595 1289.42 L158.595 1293.36 L136.651 1293.36 L136.651 1289.42 Q139.313 1286.67 143.896 1282.04 Q148.503 1277.39 149.683 1276.04 Q151.929 1273.52 152.808 1271.78 Q153.711 1270.03 153.711 1268.34 Q153.711 1265.58 151.766 1263.84 Q149.845 1262.11 146.743 1262.11 Q144.544 1262.11 142.091 1262.87 Q139.66 1263.64 136.882 1265.19 L136.882 1260.47 Q139.706 1259.33 142.16 1258.75 Q144.614 1258.17 146.651 1258.17 Q152.021 1258.17 155.216 1260.86 Q158.41 1263.54 158.41 1268.03 Q158.41 1270.16 157.6 1272.09 Q156.813 1273.98 154.706 1276.58 Q154.128 1277.25 151.026 1280.47 Q147.924 1283.66 142.276 1289.42 Z\" fill=\"#000000\" fill-rule=\"evenodd\" fill-opacity=\"1\" /><path clip-path=\"url(#clip030)\" d=\"M178.41 1261.88 Q174.799 1261.88 172.97 1265.44 Q171.165 1268.98 171.165 1276.11 Q171.165 1283.22 172.97 1286.78 Q174.799 1290.33 178.41 1290.33 Q182.044 1290.33 183.85 1286.78 Q185.678 1283.22 185.678 1276.11 Q185.678 1268.98 183.85 1265.44 Q182.044 1261.88 178.41 1261.88 M178.41 1258.17 Q184.22 1258.17 187.276 1262.78 Q190.354 1267.36 190.354 1276.11 Q190.354 1284.84 187.276 1289.45 Q184.22 1294.03 178.41 1294.03 Q172.6 1294.03 169.521 1289.45 Q166.465 1284.84 166.465 1276.11 Q166.465 1267.36 169.521 1262.78 Q172.6 1258.17 178.41 1258.17 Z\" fill=\"#000000\" fill-rule=\"evenodd\" fill-opacity=\"1\" /><path clip-path=\"url(#clip030)\" d=\"M98.4797 1132.91 L128.156 1132.91 L128.156 1136.84 L98.4797 1136.84 L98.4797 1132.91 Z\" fill=\"#000000\" fill-rule=\"evenodd\" fill-opacity=\"1\" /><path clip-path=\"url(#clip030)\" d=\"M139.058 1145.8 L146.697 1145.8 L146.697 1119.44 L138.387 1121.1 L138.387 1116.84 L146.651 1115.18 L151.327 1115.18 L151.327 1145.8 L158.966 1145.8 L158.966 1149.74 L139.058 1149.74 L139.058 1145.8 Z\" fill=\"#000000\" fill-rule=\"evenodd\" fill-opacity=\"1\" /><path clip-path=\"url(#clip030)\" d=\"M178.41 1118.26 Q174.799 1118.26 172.97 1121.82 Q171.165 1125.36 171.165 1132.49 Q171.165 1139.6 172.97 1143.16 Q174.799 1146.7 178.41 1146.7 Q182.044 1146.7 183.85 1143.16 Q185.678 1139.6 185.678 1132.49 Q185.678 1125.36 183.85 1121.82 Q182.044 1118.26 178.41 1118.26 M178.41 1114.55 Q184.22 1114.55 187.276 1119.16 Q190.354 1123.74 190.354 1132.49 Q190.354 1141.22 187.276 1145.82 Q184.22 1150.41 178.41 1150.41 Q172.6 1150.41 169.521 1145.82 Q166.465 1141.22 166.465 1132.49 Q166.465 1123.74 169.521 1119.16 Q172.6 1114.55 178.41 1114.55 Z\" fill=\"#000000\" fill-rule=\"evenodd\" fill-opacity=\"1\" /><path clip-path=\"url(#clip030)\" d=\"M178.41 974.633 Q174.799 974.633 172.97 978.198 Q171.165 981.74 171.165 988.869 Q171.165 995.976 172.97 999.54 Q174.799 1003.08 178.41 1003.08 Q182.044 1003.08 183.85 999.54 Q185.678 995.976 185.678 988.869 Q185.678 981.74 183.85 978.198 Q182.044 974.633 178.41 974.633 M178.41 970.929 Q184.22 970.929 187.276 975.536 Q190.354 980.119 190.354 988.869 Q190.354 997.596 187.276 1002.2 Q184.22 1006.79 178.41 1006.79 Q172.6 1006.79 169.521 1002.2 Q166.465 997.596 166.465 988.869 Q166.465 980.119 169.521 975.536 Q172.6 970.929 178.41 970.929 Z\" fill=\"#000000\" fill-rule=\"evenodd\" fill-opacity=\"1\" /><path clip-path=\"url(#clip030)\" d=\"M139.058 858.557 L146.697 858.557 L146.697 832.192 L138.387 833.858 L138.387 829.599 L146.651 827.932 L151.327 827.932 L151.327 858.557 L158.966 858.557 L158.966 862.492 L139.058 862.492 L139.058 858.557 Z\" fill=\"#000000\" fill-rule=\"evenodd\" fill-opacity=\"1\" /><path clip-path=\"url(#clip030)\" d=\"M178.41 831.011 Q174.799 831.011 172.97 834.576 Q171.165 838.117 171.165 845.247 Q171.165 852.354 172.97 855.918 Q174.799 859.46 178.41 859.46 Q182.044 859.46 183.85 855.918 Q185.678 852.354 185.678 845.247 Q185.678 838.117 183.85 834.576 Q182.044 831.011 178.41 831.011 M178.41 827.307 Q184.22 827.307 187.276 831.914 Q190.354 836.497 190.354 845.247 Q190.354 853.974 187.276 858.58 Q184.22 863.164 178.41 863.164 Q172.6 863.164 169.521 858.58 Q166.465 853.974 166.465 845.247 Q166.465 836.497 169.521 831.914 Q172.6 827.307 178.41 827.307 Z\" fill=\"#000000\" fill-rule=\"evenodd\" fill-opacity=\"1\" /><path clip-path=\"url(#clip030)\" d=\"M142.276 714.935 L158.595 714.935 L158.595 718.87 L136.651 718.87 L136.651 714.935 Q139.313 712.18 143.896 707.551 Q148.503 702.898 149.683 701.556 Q151.929 699.032 152.808 697.296 Q153.711 695.537 153.711 693.847 Q153.711 691.093 151.766 689.357 Q149.845 687.62 146.743 687.62 Q144.544 687.62 142.091 688.384 Q139.66 689.148 136.882 690.699 L136.882 685.977 Q139.706 684.843 142.16 684.264 Q144.614 683.685 146.651 683.685 Q152.021 683.685 155.216 686.37 Q158.41 689.056 158.41 693.546 Q158.41 695.676 157.6 697.597 Q156.813 699.495 154.706 702.088 Q154.128 702.759 151.026 705.977 Q147.924 709.171 142.276 714.935 Z\" fill=\"#000000\" fill-rule=\"evenodd\" fill-opacity=\"1\" /><path clip-path=\"url(#clip030)\" d=\"M178.41 687.389 Q174.799 687.389 172.97 690.954 Q171.165 694.495 171.165 701.625 Q171.165 708.731 172.97 712.296 Q174.799 715.838 178.41 715.838 Q182.044 715.838 183.85 712.296 Q185.678 708.731 185.678 701.625 Q185.678 694.495 183.85 690.954 Q182.044 687.389 178.41 687.389 M178.41 683.685 Q184.22 683.685 187.276 688.292 Q190.354 692.875 190.354 701.625 Q190.354 710.352 187.276 714.958 Q184.22 719.542 178.41 719.542 Q172.6 719.542 169.521 714.958 Q166.465 710.352 166.465 701.625 Q166.465 692.875 169.521 688.292 Q172.6 683.685 178.41 683.685 Z\" fill=\"#000000\" fill-rule=\"evenodd\" fill-opacity=\"1\" /><path clip-path=\"url(#clip030)\" d=\"M152.415 556.614 Q155.771 557.332 157.646 559.6 Q159.544 561.869 159.544 565.202 Q159.544 570.318 156.026 573.119 Q152.507 575.919 146.026 575.919 Q143.85 575.919 141.535 575.48 Q139.243 575.063 136.79 574.207 L136.79 569.693 Q138.734 570.827 141.049 571.406 Q143.364 571.984 145.887 571.984 Q150.285 571.984 152.577 570.248 Q154.891 568.512 154.891 565.202 Q154.891 562.146 152.739 560.433 Q150.609 558.697 146.79 558.697 L142.762 558.697 L142.762 554.855 L146.975 554.855 Q150.424 554.855 152.253 553.489 Q154.081 552.1 154.081 549.508 Q154.081 546.846 152.183 545.434 Q150.308 543.998 146.79 543.998 Q144.868 543.998 142.669 544.415 Q140.47 544.832 137.831 545.711 L137.831 541.545 Q140.493 540.804 142.808 540.434 Q145.146 540.063 147.206 540.063 Q152.53 540.063 155.632 542.494 Q158.734 544.901 158.734 549.021 Q158.734 551.892 157.091 553.883 Q155.447 555.85 152.415 556.614 Z\" fill=\"#000000\" fill-rule=\"evenodd\" fill-opacity=\"1\" /><path clip-path=\"url(#clip030)\" d=\"M178.41 543.767 Q174.799 543.767 172.97 547.332 Q171.165 550.873 171.165 558.003 Q171.165 565.109 172.97 568.674 Q174.799 572.216 178.41 572.216 Q182.044 572.216 183.85 568.674 Q185.678 565.109 185.678 558.003 Q185.678 550.873 183.85 547.332 Q182.044 543.767 178.41 543.767 M178.41 540.063 Q184.22 540.063 187.276 544.67 Q190.354 549.253 190.354 558.003 Q190.354 566.73 187.276 571.336 Q184.22 575.919 178.41 575.919 Q172.6 575.919 169.521 571.336 Q166.465 566.73 166.465 558.003 Q166.465 549.253 169.521 544.67 Q172.6 540.063 178.41 540.063 Z\" fill=\"#000000\" fill-rule=\"evenodd\" fill-opacity=\"1\" /><path clip-path=\"url(#clip030)\" d=\"M151.095 401.14 L139.29 419.589 L151.095 419.589 L151.095 401.14 M149.868 397.066 L155.748 397.066 L155.748 419.589 L160.678 419.589 L160.678 423.478 L155.748 423.478 L155.748 431.626 L151.095 431.626 L151.095 423.478 L135.493 423.478 L135.493 418.964 L149.868 397.066 Z\" fill=\"#000000\" fill-rule=\"evenodd\" fill-opacity=\"1\" /><path clip-path=\"url(#clip030)\" d=\"M178.41 400.145 Q174.799 400.145 172.97 403.71 Q171.165 407.251 171.165 414.381 Q171.165 421.487 172.97 425.052 Q174.799 428.594 178.41 428.594 Q182.044 428.594 183.85 425.052 Q185.678 421.487 185.678 414.381 Q185.678 407.251 183.85 403.71 Q182.044 400.145 178.41 400.145 M178.41 396.441 Q184.22 396.441 187.276 401.048 Q190.354 405.631 190.354 414.381 Q190.354 423.108 187.276 427.714 Q184.22 432.297 178.41 432.297 Q172.6 432.297 169.521 427.714 Q166.465 423.108 166.465 414.381 Q166.465 405.631 169.521 401.048 Q172.6 396.441 178.41 396.441 Z\" fill=\"#000000\" fill-rule=\"evenodd\" fill-opacity=\"1\" /><path clip-path=\"url(#clip030)\" d=\"M24.2041 814.536 Q24.4296 814.536 25.3957 815.083 Q26.3297 815.599 28.6807 817.499 Q31.0318 819.399 33.7693 822.233 Q34.8321 823.296 36.3135 824.906 Q37.795 826.516 38.7612 827.611 L39.7273 828.706 Q43.27 832.893 47.2313 836.565 Q47.1347 836.307 47.1025 835.856 Q47.0381 835.405 47.0381 835.083 L47.0381 834.761 Q47.0381 833.086 48.1653 830.156 Q49.0026 827.579 49.0026 826.259 Q49.0026 824.97 48.5517 823.553 Q48.1009 822.136 46.7804 820.59 Q45.46 819.045 43.4632 818.336 Q43.1412 818.207 43.0445 818.143 Q42.9157 818.078 42.7869 817.885 Q42.6259 817.692 42.6259 817.434 Q42.6259 817.08 42.8191 816.855 Q43.0123 816.629 43.27 816.629 Q43.8497 816.629 45.0091 817.08 Q46.1685 817.499 47.6178 818.433 Q49.067 819.334 50.3875 820.526 Q51.6757 821.685 52.5775 823.425 Q53.447 825.164 53.447 826.999 Q53.447 828.32 52.8029 829.286 Q52.191 830.252 50.9994 831.218 Q49.4857 832.539 49.0026 833.247 Q48.4873 833.956 48.4873 835.051 Q48.4873 837.982 52.5775 840.655 Q53.1572 840.945 53.286 841.138 Q53.447 841.299 53.447 841.685 Q53.4148 842.49 52.7707 842.49 Q52.5131 842.49 51.3859 841.782 Q50.2265 841.041 48.1975 839.399 Q46.1685 837.724 44.1395 835.695 L38.6001 829.769 Q33.0607 823.199 29.9368 820.59 Q29.9368 821.685 29.9046 822.169 Q29.8723 822.619 29.6791 823.521 Q29.4537 824.423 28.9706 825.679 Q27.9722 828.61 27.9722 829.834 Q27.9722 830.156 28.0044 830.51 Q28.0366 830.864 28.1976 831.669 Q28.3587 832.442 28.6807 833.086 Q28.9706 833.73 29.6147 834.407 Q30.2266 835.083 31.064 835.437 Q31.3216 835.534 31.4504 835.598 Q31.5793 835.663 31.7081 835.856 Q31.8047 836.017 31.8047 836.275 Q31.8047 836.661 31.5793 836.887 Q31.3538 837.08 31.064 837.08 Q30.4843 837.08 29.2926 836.5 Q28.101 835.92 26.8128 834.954 Q25.4924 833.988 24.5262 832.41 Q23.56 830.832 23.56 829.093 Q23.56 828.062 24.0109 827.193 Q24.4618 826.291 24.9449 825.84 Q25.3957 825.357 26.3941 824.552 Q27.1671 823.875 27.4891 823.553 Q27.8112 823.231 28.1654 822.587 Q28.4875 821.911 28.4875 821.17 Q28.4875 819.946 27.5535 818.819 Q26.5873 817.692 24.2685 816.243 Q23.56 815.856 23.56 815.244 Q23.56 814.536 24.2041 814.536 Z\" fill=\"#000000\" fill-rule=\"evenodd\" fill-opacity=\"1\" /><polyline clip-path=\"url(#clip032)\" style=\"stroke:#009af9; stroke-linecap:butt; stroke-linejoin:round; stroke-width:4; stroke-opacity:1; fill:none\" points=\"\n",
       "  274.875,1319.9 316.046,1291.65 357.216,1290.49 398.387,1244.39 439.558,1257.44 480.728,1209.49 521.899,1174.15 563.069,1168.96 604.24,1116.67 645.411,1095.86 \n",
       "  686.581,1105.2 727.752,1037.6 768.922,1029.08 810.093,1037.96 851.264,1029.35 892.434,965.654 933.605,942.829 974.775,912.518 1015.95,901.146 1057.12,841.604 \n",
       "  1098.29,842.093 1139.46,832.992 1180.63,807.668 1221.8,776.425 1262.97,770.082 1304.14,739.199 1345.31,732.153 1386.48,697.106 1427.65,660.985 1468.82,643.561 \n",
       "  1509.99,612.158 1551.16,601.865 1592.33,576.194 1633.51,537.603 1674.68,525.612 1715.85,496.483 1757.02,463.85 1798.19,452.108 1839.36,449.16 1880.53,394.537 \n",
       "  1921.7,397.481 1962.87,348.864 2004.04,321.207 2045.21,314.077 2086.38,305.979 2127.55,240.449 2168.72,228.241 2209.89,211.95 2251.06,173.206 2292.24,164.491 \n",
       "  \n",
       "  \"/>\n",
       "<polyline clip-path=\"url(#clip032)\" style=\"stroke:#e26f46; stroke-linecap:butt; stroke-linejoin:round; stroke-width:4; stroke-opacity:1; fill:none\" points=\"\n",
       "  274.875,1325.28 316.046,1301.62 357.216,1277.97 398.387,1254.32 439.558,1230.67 480.728,1207.01 521.899,1183.36 563.069,1159.71 604.24,1136.06 645.411,1112.41 \n",
       "  686.581,1088.75 727.752,1065.1 768.922,1041.45 810.093,1017.8 851.264,994.144 892.434,970.492 933.605,946.839 974.775,923.187 1015.95,899.535 1057.12,875.882 \n",
       "  1098.29,852.23 1139.46,828.578 1180.63,804.926 1221.8,781.273 1262.97,757.621 1304.14,733.969 1345.31,710.316 1386.48,686.664 1427.65,663.012 1468.82,639.36 \n",
       "  1509.99,615.707 1551.16,592.055 1592.33,568.403 1633.51,544.75 1674.68,521.098 1715.85,497.446 1757.02,473.794 1798.19,450.141 1839.36,426.489 1880.53,402.837 \n",
       "  1921.7,379.184 1962.87,355.532 2004.04,331.88 2045.21,308.227 2086.38,284.575 2127.55,260.923 2168.72,237.271 2209.89,213.618 2251.06,189.966 2292.24,166.314 \n",
       "  \n",
       "  \"/>\n",
       "<path clip-path=\"url(#clip030)\" d=\"\n",
       "M285.634 249.273 L726.706 249.273 L726.706 93.7534 L285.634 93.7534  Z\n",
       "  \" fill=\"#ffffff\" fill-rule=\"evenodd\" fill-opacity=\"1\"/>\n",
       "<polyline clip-path=\"url(#clip030)\" style=\"stroke:#000000; stroke-linecap:butt; stroke-linejoin:round; stroke-width:4; stroke-opacity:1; fill:none\" points=\"\n",
       "  285.634,249.273 726.706,249.273 726.706,93.7534 285.634,93.7534 285.634,249.273 \n",
       "  \"/>\n",
       "<polyline clip-path=\"url(#clip030)\" style=\"stroke:#009af9; stroke-linecap:butt; stroke-linejoin:round; stroke-width:4; stroke-opacity:1; fill:none\" points=\"\n",
       "  309.394,145.593 451.954,145.593 \n",
       "  \"/>\n",
       "<path clip-path=\"url(#clip030)\" d=\"M494.626 140.883 L494.626 126.855 L498.886 126.855 L498.886 162.873 L494.626 162.873 L494.626 158.985 Q493.284 161.299 491.224 162.434 Q489.187 163.545 486.316 163.545 Q481.617 163.545 478.654 159.795 Q475.714 156.045 475.714 149.934 Q475.714 143.823 478.654 140.073 Q481.617 136.323 486.316 136.323 Q489.187 136.323 491.224 137.457 Q493.284 138.568 494.626 140.883 M480.113 149.934 Q480.113 154.633 482.034 157.318 Q483.978 159.98 487.358 159.98 Q490.738 159.98 492.682 157.318 Q494.626 154.633 494.626 149.934 Q494.626 145.235 492.682 142.573 Q490.738 139.887 487.358 139.887 Q483.978 139.887 482.034 142.573 Q480.113 145.235 480.113 149.934 Z\" fill=\"#000000\" fill-rule=\"evenodd\" fill-opacity=\"1\" /><path clip-path=\"url(#clip030)\" d=\"M519.441 149.841 Q514.279 149.841 512.288 151.022 Q510.298 152.202 510.298 155.049 Q510.298 157.318 511.779 158.66 Q513.284 159.98 515.853 159.98 Q519.395 159.98 521.524 157.48 Q523.677 154.957 523.677 150.79 L523.677 149.841 L519.441 149.841 M527.936 148.082 L527.936 162.873 L523.677 162.873 L523.677 158.938 Q522.219 161.299 520.043 162.434 Q517.867 163.545 514.719 163.545 Q510.737 163.545 508.376 161.322 Q506.038 159.077 506.038 155.327 Q506.038 150.952 508.955 148.73 Q511.895 146.508 517.705 146.508 L523.677 146.508 L523.677 146.091 Q523.677 143.151 521.733 141.554 Q519.811 139.934 516.316 139.934 Q514.094 139.934 511.987 140.466 Q509.881 140.999 507.937 142.063 L507.937 138.128 Q510.274 137.225 512.474 136.786 Q514.673 136.323 516.756 136.323 Q522.381 136.323 525.159 139.239 Q527.936 142.156 527.936 148.082 Z\" fill=\"#000000\" fill-rule=\"evenodd\" fill-opacity=\"1\" /><path clip-path=\"url(#clip030)\" d=\"M540.922 129.587 L540.922 136.948 L549.696 136.948 L549.696 140.258 L540.922 140.258 L540.922 154.332 Q540.922 157.503 541.779 158.406 Q542.659 159.309 545.321 159.309 L549.696 159.309 L549.696 162.873 L545.321 162.873 Q540.39 162.873 538.515 161.045 Q536.64 159.193 536.64 154.332 L536.64 140.258 L533.515 140.258 L533.515 136.948 L536.64 136.948 L536.64 129.587 L540.922 129.587 Z\" fill=\"#000000\" fill-rule=\"evenodd\" fill-opacity=\"1\" /><path clip-path=\"url(#clip030)\" d=\"M567.08 149.841 Q561.918 149.841 559.927 151.022 Q557.936 152.202 557.936 155.049 Q557.936 157.318 559.418 158.66 Q560.922 159.98 563.492 159.98 Q567.033 159.98 569.163 157.48 Q571.316 154.957 571.316 150.79 L571.316 149.841 L567.08 149.841 M575.575 148.082 L575.575 162.873 L571.316 162.873 L571.316 158.938 Q569.857 161.299 567.682 162.434 Q565.506 163.545 562.358 163.545 Q558.376 163.545 556.015 161.322 Q553.677 159.077 553.677 155.327 Q553.677 150.952 556.594 148.73 Q559.533 146.508 565.344 146.508 L571.316 146.508 L571.316 146.091 Q571.316 143.151 569.371 141.554 Q567.45 139.934 563.955 139.934 Q561.733 139.934 559.626 140.466 Q557.52 140.999 555.575 142.063 L555.575 138.128 Q557.913 137.225 560.112 136.786 Q562.311 136.323 564.395 136.323 Q570.02 136.323 572.797 139.239 Q575.575 142.156 575.575 148.082 Z\" fill=\"#000000\" fill-rule=\"evenodd\" fill-opacity=\"1\" /><polyline clip-path=\"url(#clip030)\" style=\"stroke:#e26f46; stroke-linecap:butt; stroke-linejoin:round; stroke-width:4; stroke-opacity:1; fill:none\" points=\"\n",
       "  309.394,197.433 451.954,197.433 \n",
       "  \"/>\n",
       "<path clip-path=\"url(#clip030)\" d=\"M499.742 200.686 L499.742 202.769 L480.159 202.769 Q480.437 207.167 482.798 209.482 Q485.182 211.774 489.418 211.774 Q491.872 211.774 494.163 211.172 Q496.478 210.57 498.747 209.366 L498.747 213.394 Q496.455 214.366 494.048 214.875 Q491.64 215.385 489.163 215.385 Q482.96 215.385 479.326 211.774 Q475.714 208.162 475.714 202.005 Q475.714 195.639 479.14 191.913 Q482.589 188.163 488.423 188.163 Q493.654 188.163 496.687 191.542 Q499.742 194.899 499.742 200.686 M495.483 199.436 Q495.437 195.94 493.515 193.857 Q491.617 191.774 488.469 191.774 Q484.904 191.774 482.751 193.788 Q480.622 195.801 480.298 199.459 L495.483 199.436 Z\" fill=\"#000000\" fill-rule=\"evenodd\" fill-opacity=\"1\" /><path clip-path=\"url(#clip030)\" d=\"M523.26 189.551 L523.26 193.579 Q521.455 192.653 519.511 192.19 Q517.566 191.727 515.483 191.727 Q512.311 191.727 510.714 192.7 Q509.14 193.672 509.14 195.616 Q509.14 197.098 510.274 197.954 Q511.409 198.788 514.835 199.551 L516.293 199.875 Q520.83 200.848 522.728 202.63 Q524.649 204.389 524.649 207.561 Q524.649 211.172 521.779 213.278 Q518.932 215.385 513.932 215.385 Q511.849 215.385 509.58 214.968 Q507.335 214.574 504.835 213.764 L504.835 209.366 Q507.196 210.593 509.487 211.218 Q511.779 211.82 514.024 211.82 Q517.034 211.82 518.654 210.801 Q520.274 209.76 520.274 207.885 Q520.274 206.149 519.094 205.223 Q517.936 204.297 513.978 203.44 L512.497 203.093 Q508.538 202.26 506.779 200.547 Q505.02 198.811 505.02 195.801 Q505.02 192.144 507.612 190.153 Q510.205 188.163 514.973 188.163 Q517.335 188.163 519.418 188.51 Q521.501 188.857 523.26 189.551 Z\" fill=\"#000000\" fill-rule=\"evenodd\" fill-opacity=\"1\" /><path clip-path=\"url(#clip030)\" d=\"M535.645 181.427 L535.645 188.788 L544.418 188.788 L544.418 192.098 L535.645 192.098 L535.645 206.172 Q535.645 209.343 536.501 210.246 Q537.381 211.149 540.043 211.149 L544.418 211.149 L544.418 214.713 L540.043 214.713 Q535.112 214.713 533.237 212.885 Q531.362 211.033 531.362 206.172 L531.362 192.098 L528.237 192.098 L528.237 188.788 L531.362 188.788 L531.362 181.427 L535.645 181.427 Z\" fill=\"#000000\" fill-rule=\"evenodd\" fill-opacity=\"1\" /><path clip-path=\"url(#clip030)\" d=\"M550.02 188.788 L554.279 188.788 L554.279 214.713 L550.02 214.713 L550.02 188.788 M550.02 178.695 L554.279 178.695 L554.279 184.089 L550.02 184.089 L550.02 178.695 Z\" fill=\"#000000\" fill-rule=\"evenodd\" fill-opacity=\"1\" /><path clip-path=\"url(#clip030)\" d=\"M583.376 193.764 Q584.973 190.894 587.195 189.528 Q589.418 188.163 592.427 188.163 Q596.478 188.163 598.677 191.01 Q600.876 193.834 600.876 199.065 L600.876 214.713 L596.593 214.713 L596.593 199.204 Q596.593 195.477 595.274 193.672 Q593.955 191.866 591.246 191.866 Q587.936 191.866 586.015 194.065 Q584.093 196.264 584.093 200.061 L584.093 214.713 L579.811 214.713 L579.811 199.204 Q579.811 195.454 578.492 193.672 Q577.172 191.866 574.418 191.866 Q571.154 191.866 569.232 194.088 Q567.311 196.288 567.311 200.061 L567.311 214.713 L563.029 214.713 L563.029 188.788 L567.311 188.788 L567.311 192.815 Q568.77 190.431 570.807 189.297 Q572.844 188.163 575.644 188.163 Q578.469 188.163 580.436 189.598 Q582.427 191.033 583.376 193.764 Z\" fill=\"#000000\" fill-rule=\"evenodd\" fill-opacity=\"1\" /><path clip-path=\"url(#clip030)\" d=\"M621.153 201.681 Q615.991 201.681 614.001 202.862 Q612.01 204.042 612.01 206.889 Q612.01 209.158 613.491 210.5 Q614.996 211.82 617.566 211.82 Q621.107 211.82 623.237 209.32 Q625.39 206.797 625.39 202.63 L625.39 201.681 L621.153 201.681 M629.649 199.922 L629.649 214.713 L625.39 214.713 L625.39 210.778 Q623.931 213.139 621.755 214.274 Q619.579 215.385 616.431 215.385 Q612.45 215.385 610.089 213.162 Q607.751 210.917 607.751 207.167 Q607.751 202.792 610.667 200.57 Q613.607 198.348 619.417 198.348 L625.39 198.348 L625.39 197.931 Q625.39 194.991 623.445 193.394 Q621.524 191.774 618.029 191.774 Q615.806 191.774 613.7 192.306 Q611.593 192.839 609.649 193.903 L609.649 189.968 Q611.987 189.065 614.186 188.626 Q616.385 188.163 618.468 188.163 Q624.093 188.163 626.871 191.079 Q629.649 193.996 629.649 199.922 Z\" fill=\"#000000\" fill-rule=\"evenodd\" fill-opacity=\"1\" /><path clip-path=\"url(#clip030)\" d=\"M642.635 181.427 L642.635 188.788 L651.408 188.788 L651.408 192.098 L642.635 192.098 L642.635 206.172 Q642.635 209.343 643.491 210.246 Q644.371 211.149 647.033 211.149 L651.408 211.149 L651.408 214.713 L647.033 214.713 Q642.102 214.713 640.227 212.885 Q638.352 211.033 638.352 206.172 L638.352 192.098 L635.227 192.098 L635.227 188.788 L638.352 188.788 L638.352 181.427 L642.635 181.427 Z\" fill=\"#000000\" fill-rule=\"evenodd\" fill-opacity=\"1\" /><path clip-path=\"url(#clip030)\" d=\"M679.186 200.686 L679.186 202.769 L659.602 202.769 Q659.88 207.167 662.241 209.482 Q664.625 211.774 668.862 211.774 Q671.315 211.774 673.607 211.172 Q675.922 210.57 678.19 209.366 L678.19 213.394 Q675.899 214.366 673.491 214.875 Q671.084 215.385 668.607 215.385 Q662.403 215.385 658.769 211.774 Q655.158 208.162 655.158 202.005 Q655.158 195.639 658.584 191.913 Q662.033 188.163 667.866 188.163 Q673.098 188.163 676.13 191.542 Q679.186 194.899 679.186 200.686 M674.926 199.436 Q674.88 195.94 672.959 193.857 Q671.061 191.774 667.912 191.774 Q664.348 191.774 662.195 193.788 Q660.065 195.801 659.741 199.459 L674.926 199.436 Z\" fill=\"#000000\" fill-rule=\"evenodd\" fill-opacity=\"1\" /></svg>\n"
      ]
     },
     "execution_count": 7,
     "metadata": {},
     "output_type": "execute_result"
    }
   ],
   "source": [
    "main()"
   ]
  }
 ],
 "metadata": {
  "kernelspec": {
   "display_name": "Julia 1.6.2",
   "language": "julia",
   "name": "julia-1.6"
  },
  "language_info": {
   "file_extension": ".jl",
   "mimetype": "application/julia",
   "name": "julia",
   "version": "1.6.2"
  }
 },
 "nbformat": 4,
 "nbformat_minor": 5
}
